{
 "cells": [
  {
   "cell_type": "code",
   "execution_count": null,
   "metadata": {},
   "outputs": [],
   "source": [
    "import ipywidgets as widgets\n",
    "from IPython.display import display\n",
    "import time  # Add this for a small delay\n",
    "\n",
    "# Initialize widgets (give them time to register)\n",
    "time.sleep(0.5)  # Small delay to ensure initialization\n",
    "\n",
    "# Create widgets\n",
    "button = widgets.Button(description=\"Click Me!\")\n",
    "output = widgets.Output()\n",
    "\n",
    "def on_button_click(b):\n",
    "    with output:\n",
    "        print(\"Button clicked!\")  # Simple print\n",
    "\n",
    "button.on_click(on_button_click)\n",
    "\n",
    "# Initialize widget extension\n",
    "if 'jupyter' in locals():\n",
    "    jupyter.frontend.init()\n",
    "\n",
    "# Display widgets\n",
    "display(button)\n",
    "display(output)"
   ]
  }
 ],
 "metadata": {
  "kernelspec": {
   "display_name": "Python (XPython)",
   "name": "xpython"
  }
 },
 "nbformat": 4,
 "nbformat_minor": 2
}
