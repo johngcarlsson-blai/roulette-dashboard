{
 "cells": [
  {
   "cell_type": "code",
   "execution_count": null,
   "metadata": {},
   "outputs": [],
   "source": [
    "import ipywidgets as widgets\n",
    "from IPython.display import display, HTML\n",
    "\n",
    "# Create a React component with a button and output display\n",
    "react_code = \"\"\"\n",
    "import React, { useState } from 'react';\n",
    "\n",
    "export default function ClickCounter() {\n",
    "  const [count, setCount] = useState(0);\n",
    "  const [messages, setMessages] = useState([]);\n",
    "\n",
    "  const handleClick = () => {\n",
    "    setCount(count + 1);\n",
    "    setMessages([...messages, `Button clicked ${count + 1} times!`]);\n",
    "  };\n",
    "\n",
    "  return (\n",
    "    <div className=\"p-4\">\n",
    "      <button \n",
    "        onClick={handleClick}\n",
    "        className=\"bg-blue-500 hover:bg-blue-700 text-white font-bold py-2 px-4 rounded\"\n",
    "      >\n",
    "        Click Me\n",
    "      </button>\n",
    "      <div className=\"mt-4 p-4 border rounded\">\n",
    "        {messages.map((msg, idx) => (\n",
    "          <div key={idx}>{msg}</div>\n",
    "        ))}\n",
    "      </div>\n",
    "    </div>\n",
    "  );\n",
    "}\n",
    "\"\"\"\n",
    "\n",
    "from IPython.display import display\n",
    "display(HTML(f\"\"\"\n",
    "<div id=\"react-root\"></div>\n",
    "<script type=\"module\">\n",
    "  {react_code}\n",
    "</script>\n",
    "\"\"\"))"
   ]
  }
 ],
 "metadata": {
  "kernelspec": {
   "display_name": "Python (XPython)",
   "name": "xpython"
  }
 },
 "nbformat": 4,
 "nbformat_minor": 2
}
