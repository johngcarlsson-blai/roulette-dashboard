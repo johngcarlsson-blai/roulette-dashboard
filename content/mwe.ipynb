{
 "cells": [
  {
   "cell_type": "code",
   "execution_count": null,
   "metadata": {},
   "outputs": [],
   "source": [
    "import ipywidgets as widgets\n",
    "from IPython.display import display, clear_output\n",
    "\n",
    "# Create button and output area\n",
    "button = widgets.Button(description=\"Click Me!\")\n",
    "output = widgets.Output()\n",
    "\n",
    "# Define what happens when button is clicked\n",
    "@output.capture()\n",
    "def on_button_click(b):\n",
    "    with output:\n",
    "        clear_output()\n",
    "        print(\"Button clicked!\")\n",
    "\n",
    "# Connect the button to its click handler\n",
    "button.on_click(on_button_click)\n",
    "\n",
    "# Display both the button and its output area\n",
    "display(button, output)"
   ]
  }
 ],
 "metadata": {
  "kernelspec": {
   "display_name": "Python (XPython)",
   "name": "xpython"
  }
},
 "nbformat": 4,
 "nbformat_minor": 2
}
