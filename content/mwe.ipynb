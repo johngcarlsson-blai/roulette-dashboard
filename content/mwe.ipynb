{
 "cells": [
  {
   "cell_type": "code",
   "execution_count": null,
   "metadata": {},
   "outputs": [],
   "source": [
    "import ipywidgets as widgets\n",
    "from IPython.display import display\n",
    "\n",
    "button = widgets.Button(\n",
    "    description='Click Me!',\n",
    "    button_style='success'\n",
    ")\n",
    "\n",
    "output = widgets.Output()\n",
    "\n",
    "@output.capture()\n",
    "def on_click(b):\n",
    "    with output:\n",
    "        print(\"Button clicked!\")\n",
    "\n",
    "button.on_click(on_click)\n",
    "\n",
    "# Make sure to display both widgets\n",
    "display(button)\n",
    "display(output)"
   ]
  }
 ],
 "metadata": {
  "kernelspec": {
   "display_name": "Python (XPython)",
   "name": "xpython"
  }
 },
 "nbformat": 4,
 "nbformat_minor": 2
}
